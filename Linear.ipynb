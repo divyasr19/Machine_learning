{
 "cells": [
  {
   "cell_type": "code",
   "execution_count": 5,
   "id": "0f422d49",
   "metadata": {},
   "outputs": [],
   "source": [
    "#importing the libraries\n",
    "import numpy as np\n",
    "import pandas as pd\n"
   ]
  },
  {
   "cell_type": "code",
   "execution_count": 6,
   "id": "f71914b2",
   "metadata": {},
   "outputs": [
    {
     "data": {
      "text/html": [
       "<div>\n",
       "<style scoped>\n",
       "    .dataframe tbody tr th:only-of-type {\n",
       "        vertical-align: middle;\n",
       "    }\n",
       "\n",
       "    .dataframe tbody tr th {\n",
       "        vertical-align: top;\n",
       "    }\n",
       "\n",
       "    .dataframe thead th {\n",
       "        text-align: right;\n",
       "    }\n",
       "</style>\n",
       "<table border=\"1\" class=\"dataframe\">\n",
       "  <thead>\n",
       "    <tr style=\"text-align: right;\">\n",
       "      <th></th>\n",
       "      <th>x</th>\n",
       "      <th>y</th>\n",
       "    </tr>\n",
       "  </thead>\n",
       "  <tbody>\n",
       "    <tr>\n",
       "      <th>0</th>\n",
       "      <td>1</td>\n",
       "      <td>1.5</td>\n",
       "    </tr>\n",
       "    <tr>\n",
       "      <th>1</th>\n",
       "      <td>2</td>\n",
       "      <td>3.8</td>\n",
       "    </tr>\n",
       "    <tr>\n",
       "      <th>2</th>\n",
       "      <td>3</td>\n",
       "      <td>6.7</td>\n",
       "    </tr>\n",
       "    <tr>\n",
       "      <th>3</th>\n",
       "      <td>4</td>\n",
       "      <td>9.0</td>\n",
       "    </tr>\n",
       "    <tr>\n",
       "      <th>4</th>\n",
       "      <td>5</td>\n",
       "      <td>11.2</td>\n",
       "    </tr>\n",
       "    <tr>\n",
       "      <th>5</th>\n",
       "      <td>6</td>\n",
       "      <td>13.6</td>\n",
       "    </tr>\n",
       "    <tr>\n",
       "      <th>6</th>\n",
       "      <td>7</td>\n",
       "      <td>16.0</td>\n",
       "    </tr>\n",
       "  </tbody>\n",
       "</table>\n",
       "</div>"
      ],
      "text/plain": [
       "   x     y\n",
       "0  1   1.5\n",
       "1  2   3.8\n",
       "2  3   6.7\n",
       "3  4   9.0\n",
       "4  5  11.2\n",
       "5  6  13.6\n",
       "6  7  16.0"
      ]
     },
     "execution_count": 6,
     "metadata": {},
     "output_type": "execute_result"
    }
   ],
   "source": [
    "#creating the data and convert it into dataframe and name the columns as x and y\n",
    "x=[i for i in range(1,8)]\n",
    "y=[1.5,3.8,6.7,9.0,11.2,13.6,16]\n",
    "d=pd.DataFrame(\n",
    "data={\"x\":x,\"y\":y})\n",
    "d\n",
    "\n",
    "    "
   ]
  },
  {
   "cell_type": "markdown",
   "id": "39317675",
   "metadata": {},
   "source": [
    "$$m=\\frac{n\\sum xy -\\sum x \\sum y}{n\\sum x^{2}-(\\sum x)^{2}}$$"
   ]
  },
  {
   "cell_type": "code",
   "execution_count": 7,
   "id": "2225f45b",
   "metadata": {},
   "outputs": [
    {
     "data": {
      "text/html": [
       "<div>\n",
       "<style scoped>\n",
       "    .dataframe tbody tr th:only-of-type {\n",
       "        vertical-align: middle;\n",
       "    }\n",
       "\n",
       "    .dataframe tbody tr th {\n",
       "        vertical-align: top;\n",
       "    }\n",
       "\n",
       "    .dataframe thead th {\n",
       "        text-align: right;\n",
       "    }\n",
       "</style>\n",
       "<table border=\"1\" class=\"dataframe\">\n",
       "  <thead>\n",
       "    <tr style=\"text-align: right;\">\n",
       "      <th></th>\n",
       "      <th>x</th>\n",
       "      <th>y</th>\n",
       "      <th>xy</th>\n",
       "      <th>x^2</th>\n",
       "    </tr>\n",
       "  </thead>\n",
       "  <tbody>\n",
       "    <tr>\n",
       "      <th>0</th>\n",
       "      <td>1</td>\n",
       "      <td>1.5</td>\n",
       "      <td>1.5</td>\n",
       "      <td>1</td>\n",
       "    </tr>\n",
       "    <tr>\n",
       "      <th>1</th>\n",
       "      <td>2</td>\n",
       "      <td>3.8</td>\n",
       "      <td>7.6</td>\n",
       "      <td>4</td>\n",
       "    </tr>\n",
       "    <tr>\n",
       "      <th>2</th>\n",
       "      <td>3</td>\n",
       "      <td>6.7</td>\n",
       "      <td>20.1</td>\n",
       "      <td>9</td>\n",
       "    </tr>\n",
       "    <tr>\n",
       "      <th>3</th>\n",
       "      <td>4</td>\n",
       "      <td>9.0</td>\n",
       "      <td>36.0</td>\n",
       "      <td>16</td>\n",
       "    </tr>\n",
       "    <tr>\n",
       "      <th>4</th>\n",
       "      <td>5</td>\n",
       "      <td>11.2</td>\n",
       "      <td>56.0</td>\n",
       "      <td>25</td>\n",
       "    </tr>\n",
       "    <tr>\n",
       "      <th>5</th>\n",
       "      <td>6</td>\n",
       "      <td>13.6</td>\n",
       "      <td>81.6</td>\n",
       "      <td>36</td>\n",
       "    </tr>\n",
       "    <tr>\n",
       "      <th>6</th>\n",
       "      <td>7</td>\n",
       "      <td>16.0</td>\n",
       "      <td>112.0</td>\n",
       "      <td>49</td>\n",
       "    </tr>\n",
       "  </tbody>\n",
       "</table>\n",
       "</div>"
      ],
      "text/plain": [
       "   x     y     xy  x^2\n",
       "0  1   1.5    1.5    1\n",
       "1  2   3.8    7.6    4\n",
       "2  3   6.7   20.1    9\n",
       "3  4   9.0   36.0   16\n",
       "4  5  11.2   56.0   25\n",
       "5  6  13.6   81.6   36\n",
       "6  7  16.0  112.0   49"
      ]
     },
     "execution_count": 7,
     "metadata": {},
     "output_type": "execute_result"
    }
   ],
   "source": [
    "#creating new columns which are required for the algorihm\n",
    "d[\"xy\"]=d[\"x\"]* d[\"y\"]\n",
    "d[\"x^2\"]=d[\"x\"] ** 2\n",
    "d"
   ]
  },
  {
   "cell_type": "code",
   "execution_count": 8,
   "id": "e83dc4e0",
   "metadata": {},
   "outputs": [
    {
     "name": "stdout",
     "output_type": "stream",
     "text": [
      "7 314.8 28 61.800000000000004 140 784\n"
     ]
    }
   ],
   "source": [
    "#finding the sum using sum() and no. of elements by len()\n",
    "n=len(d)\n",
    "s_xy=d[\"xy\"].sum()\n",
    "s_x=d[\"x\"].sum()\n",
    "s_y=d[\"y\"].sum()\n",
    "s_x_2=d[\"x^2\"].sum()\n",
    "s_xh_2=sum(d[\"x\"])**2\n",
    "print(n,s_xy,s_x,s_y,s_x_2,s_xh_2)"
   ]
  },
  {
   "cell_type": "code",
   "execution_count": 9,
   "id": "54c2871f",
   "metadata": {},
   "outputs": [
    {
     "data": {
      "text/plain": [
       "2.4142857142857133"
      ]
     },
     "execution_count": 9,
     "metadata": {},
     "output_type": "execute_result"
    }
   ],
   "source": [
    "#caluculating m value\n",
    "nr1=(n*s_xy)-(s_x*s_y)\n",
    "dr1=(n*s_x_2)-(s_x ** 2)\n",
    "m=nr1/dr1\n",
    "m\n"
   ]
  },
  {
   "cell_type": "markdown",
   "id": "22bf242e",
   "metadata": {},
   "source": [
    "$$b=\\frac{\\sum y -m*\\sum x}{n}$$"
   ]
  },
  {
   "cell_type": "code",
   "execution_count": 10,
   "id": "40f90aed",
   "metadata": {},
   "outputs": [
    {
     "data": {
      "text/plain": [
       "-0.8285714285714231"
      ]
     },
     "execution_count": 10,
     "metadata": {},
     "output_type": "execute_result"
    }
   ],
   "source": [
    "#calculating b value\n",
    "nr2=(s_y)-(m*s_x)\n",
    "dr2=n\n",
    "b=nr2/dr2\n",
    "b"
   ]
  },
  {
   "cell_type": "markdown",
   "id": "63fa3266",
   "metadata": {},
   "source": [
    "$$y_{pred}=m\\sum_{i=0}^{n}x +b$$"
   ]
  },
  {
   "cell_type": "code",
   "execution_count": 11,
   "id": "84bb9803",
   "metadata": {},
   "outputs": [
    {
     "data": {
      "text/plain": [
       "[1.59, 4.0, 6.41, 8.83, 11.24, 13.66, 16.07]"
      ]
     },
     "execution_count": 11,
     "metadata": {},
     "output_type": "execute_result"
    }
   ],
   "source": [
    "#these are the preicteded values\n",
    "y_pred=[round(m * Xi + b,2)for Xi in d[\"x\"]]\n",
    "y_pred"
   ]
  },
  {
   "cell_type": "markdown",
   "id": "7e414cb5",
   "metadata": {},
   "source": [
    "$$sqrerror=\\sum_{i=0}^{n}(y_{pred}-y_{org})^{2}$$"
   ]
  },
  {
   "cell_type": "code",
   "execution_count": 12,
   "id": "5528216a",
   "metadata": {},
   "outputs": [
    {
     "data": {
      "text/plain": [
       "0.17120000000000024"
      ]
     },
     "execution_count": 12,
     "metadata": {},
     "output_type": "execute_result"
    }
   ],
   "source": [
    "#calculating se\n",
    "se=sum([(yp-yo)**2 for yp,yo in zip(y_pred,d['y'])])\n",
    "se"
   ]
  },
  {
   "cell_type": "code",
   "execution_count": 13,
   "id": "359250a6",
   "metadata": {},
   "outputs": [
    {
     "data": {
      "image/png": "[encoded data removed]",
      "text/plain": [
       "<Figure size 432x288 with 1 Axes>"
      ]
     },
     "metadata": {
      "needs_background": "light"
     },
     "output_type": "display_data"
    }
   ],
   "source": [
    "import matplotlib.pyplot as plt  #for visualisation\n",
    "plt.scatter(list(range(len(d))),d[\"y\"].values) #scatter points\n",
    "plt.plot(list(range(len(d))),y_pred,c=\"r\")\n",
    "plt.show()"
   ]
  },
  {
   "cell_type": "code",
   "execution_count": null,
   "id": "7cb6f06b",
   "metadata": {},
   "outputs": [],
   "source": []
  },
  {
   "cell_type": "code",
   "execution_count": null,
   "id": "c5829faf",
   "metadata": {},
   "outputs": [],
   "source": []
  }
 ],
 "metadata": {
  "kernelspec": {
   "display_name": "Python 3 (ipykernel)",
   "language": "python",
   "name": "python3"
  },
  "language_info": {
   "codemirror_mode": {
    "name": "ipython",
    "version": 3
   },
   "file_extension": ".py",
   "mimetype": "text/x-python",
   "name": "python",
   "nbconvert_exporter": "python",
   "pygments_lexer": "ipython3",
   "version": "3.9.7"
  }
 },
 "nbformat": 4,
 "nbformat_minor": 5
}
